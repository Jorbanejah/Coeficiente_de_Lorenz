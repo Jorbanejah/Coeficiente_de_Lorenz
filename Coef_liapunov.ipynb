{
 "cells": [
  {
   "cell_type": "code",
   "execution_count": null,
   "metadata": {},
   "outputs": [],
   "source": []
  },
  {
   "cell_type": "markdown",
   "metadata": {},
   "source": [
    "# Coeficiente de Lyapunov\n",
    "En los anteriores archivos hemos visto que efectivamente el **Atractor de Lorenz** es sensible a pequeñas perturbaciones sobre las condicionales (de la misma forma para los parámetros $\\sigma$, $\\rho$ y $\\beta$). ¿Habrá alguna forma de medir esa sensibilidad? ¿Habrá alguna manera de, sin resolver el sistema o sin hacer perturbaciones, podemos decretar que es un sistema complejo? O al menos, ¿habrá alguna forma de decretarlo?\n",
    "\n",
    "Este concepto nace de la mente Aleksandr Lyapunov a finales del siglo XIX, en el contexto de la estabilidad de sistemas dinámicos. Su trabajo sentó las bases para el estudio moderno del caos y la teoría de sistemas complejos. Más tarde, con el desarrollo de la computación y el análisis numérico, los exponentes de Lyapunov se convirtieron en una herramienta fundamental para caracterizar el comportamiento caótico en sistemas físicos, meteorológicos y matemáticos, como el famoso *atractor de Lorenz* descubierto en 1963. \n",
    "\n",
    "**Pero ¿Qué es el coeficiente de Lyapunov?** El coeficiente de Lyapunov mide la sensibilidad a las condiciones iniciales en sistemas dinámicos, como el atractor de Lorenz. Específicamente, cuantifica la tasa de divergencia exponencial entre trayectorias cercanas: si el coeficiente es positivo, pequeñas diferencias iniciales se amplifican rápidamente, lo que indica comportamiento caótico. Para el atractor de Lorenz, el mayor exponente de Lyapunov es positivo, lo que confirma la naturaleza caótica del sistema y la imposibilidad de predecir su evolución a largo plazo.\n",
    "\n",
    "La fórmula para calcular el coeficiente de Lyapunov es:\n",
    "$$\n",
    "\\lambda = \\lim_{t \\to \\infty} \\frac{1}{t} \\ln \\left( \\frac{|\\delta(t)|}{|\\delta_0|} \\right)\n",
    "$$\n",
    "\n",
    "donde $\\delta_0$ es la distancia inicial entre dos trayectorias y $\\delta(t)$ es la distancia en el tiempo $t$. Si $\\lambda > 0$, el sistema es caótico.\n",
    "\n",
    "Como $\\lim{t \\to \\infty}$ y eso está *muy lejos*, vamos a ver como evoluciona $\\lambda$ para diferentes tiempos para ver si tiende a algun valor en específico.\n",
    "\n",
    "De manera práctica, vamos a seguir los siguientes pasos: \n",
    "- Calculamos las trayectorias del sistema sin perturbador x1 y el sistema perturbado x2 a partir del **Método de RK4** y $\\delta _0$\n",
    "- Calculamos la separación $\\delta$ como el modulo de la diferencia de las trayectorias en el mismo punto del tiempo y lo que haremos será acumular la en S el logaritmo de esta: \n",
    " $$\n",
    "S += ln(\\frac{\\delta}{\\delta _0})\n",
    " $$\n",
    "- Por último, renormalizamos $\\delta _0$ manteniendo la dirección de $\\delta$\n",
    "\n",
    "Este proceso lo haremos hasta llegar a nuestro t_final = T, un vector que va de 200 a 4000 en 100 pasos.\n",
    "\n",
    "$$\n",
    "    \\lambda = \\frac{1}{N} \\sum ^{N}_{i=1} ln (\\frac{\\delta _k}{\\delta _0}) = \\frac{S}{T}\n",
    "$$"
   ]
  },
  {
   "cell_type": "code",
   "execution_count": 20,
   "metadata": {},
   "outputs": [],
   "source": [
    "import numpy as np\n",
    "import math as m\n",
    "import matplotlib.pyplot as plt"
   ]
  },
  {
   "cell_type": "markdown",
   "metadata": {},
   "source": [
    "Definimos las funciones que vamos a necesitar para el programa: el sistema de Lorentz, el método de Runge Kutta y coef_lyapunov"
   ]
  },
  {
   "cell_type": "code",
   "execution_count": null,
   "metadata": {},
   "outputs": [],
   "source": [
    "def rk4_step(f, x, h): #Función para un paso de Runge-Kutta de cuarto orden\n",
    "    k1 = f(x)\n",
    "    k2 = f(x + 0.5*h*k1)\n",
    "    k3 = f(x + 0.5*h*k2)\n",
    "    k4 = f(x + h*k3)\n",
    "    return x + (h/6.0)*(k1 + 2*k2 + 2*k3 + k4)\n",
    "\n",
    "def lorenz(x, sigma=10., beta=8/3, rho=28.): # Sistema de Lorenz\n",
    "    dx = sigma*(x[1] - x[0])\n",
    "    dy = x[0]*(rho - x[2]) - x[1]\n",
    "    dz = x[0]*x[1] - beta*x[2]\n",
    "    return np.array([dx, dy, dz])\n",
    "\n",
    "def lyapunov_lorenz(x0, delta0=1e-8, h=0.01, t_final=100.0, renorm_interval=0.1): #Funcion para calcular el exponente de Lyapunov\n",
    "    \n",
    "    x1 = np.array(x0, dtype=float) #Trayectoria de la partícula\n",
    "    \n",
    "    v = np.random.normal(size=3) # Vector aleatorio para la perturbación inicial\n",
    "    v /= np.linalg.norm(v) # Normalizar el vector\n",
    "    x2 = x1 + delta0 * v #Trayectoria de la partícula perturbada\n",
    "\n",
    "    S = 0.0  # Acmulará el factor de dilatación de ambas trayectorias\n",
    "    t = 0.0\n",
    "    steps_per_renorm = int(renorm_interval / h) # Número de pasos entre renormalizaciones\n",
    "    total_steps = int(t_final / h) # Número total de pasos\n",
    "\n",
    "    for i in range(1, total_steps + 1):\n",
    "        x1 = rk4_step(lorenz, x1, h)\n",
    "        x2 = rk4_step(lorenz, x2, h)\n",
    "        if i % steps_per_renorm == 0: #El % en el condicional es el operador módulo, que devuelve el resto de la división\n",
    "            diff = x2 - x1\n",
    "            dist = np.linalg.norm(diff)\n",
    "            S += np.log(dist / delta0)\n",
    "            diff = (delta0 / dist) * diff\n",
    "            x2 = x1 + diff\n",
    "            t += renorm_interval\n",
    "    return S / (t)"
   ]
  },
  {
   "cell_type": "code",
   "execution_count": 22,
   "metadata": {},
   "outputs": [
    {
     "ename": "KeyboardInterrupt",
     "evalue": "",
     "output_type": "error",
     "traceback": [
      "\u001b[31m---------------------------------------------------------------------------\u001b[39m",
      "\u001b[31mKeyboardInterrupt\u001b[39m                         Traceback (most recent call last)",
      "\u001b[36mCell\u001b[39m\u001b[36m \u001b[39m\u001b[32mIn[22]\u001b[39m\u001b[32m, line 7\u001b[39m\n\u001b[32m      4\u001b[39m lambda_max = []\n\u001b[32m      6\u001b[39m \u001b[38;5;28;01mfor\u001b[39;00m T \u001b[38;5;129;01min\u001b[39;00m t_final:\n\u001b[32m----> \u001b[39m\u001b[32m7\u001b[39m     λ = \u001b[43mlyapunov_lorenz\u001b[49m\u001b[43m(\u001b[49m\u001b[43mx0\u001b[49m\u001b[43m,\u001b[49m\u001b[43m \u001b[49m\u001b[43mdelta0\u001b[49m\u001b[43m=\u001b[49m\u001b[32;43m1e-8\u001b[39;49m\u001b[43m,\u001b[49m\u001b[43m \u001b[49m\u001b[43mh\u001b[49m\u001b[43m=\u001b[49m\u001b[32;43m0.005\u001b[39;49m\u001b[43m,\u001b[49m\u001b[43m \u001b[49m\u001b[43mt_final\u001b[49m\u001b[43m=\u001b[49m\u001b[43mT\u001b[49m\u001b[43m,\u001b[49m\u001b[43m \u001b[49m\u001b[43mrenorm_interval\u001b[49m\u001b[43m=\u001b[49m\u001b[32;43m0.05\u001b[39;49m\u001b[43m)\u001b[49m\n\u001b[32m      8\u001b[39m     lambda_max.append(λ)\n",
      "\u001b[36mCell\u001b[39m\u001b[36m \u001b[39m\u001b[32mIn[21]\u001b[39m\u001b[32m, line 32\u001b[39m, in \u001b[36mlyapunov_lorenz\u001b[39m\u001b[34m(x0, delta0, h, t_final, renorm_interval)\u001b[39m\n\u001b[32m     30\u001b[39m \u001b[38;5;28;01mif\u001b[39;00m i % steps_per_renorm == \u001b[32m0\u001b[39m:\n\u001b[32m     31\u001b[39m     diff = x2 - x1\n\u001b[32m---> \u001b[39m\u001b[32m32\u001b[39m     dist = \u001b[43mnp\u001b[49m\u001b[43m.\u001b[49m\u001b[43mlinalg\u001b[49m\u001b[43m.\u001b[49m\u001b[43mnorm\u001b[49m\u001b[43m(\u001b[49m\u001b[43mdiff\u001b[49m\u001b[43m)\u001b[49m\n\u001b[32m     33\u001b[39m     S += np.log(dist / delta0)\n\u001b[32m     34\u001b[39m     diff = (delta0 / dist) * diff\n",
      "\u001b[36mFile \u001b[39m\u001b[32mc:\\Users\\carlo\\OneDrive\\Escritorio\\Programas_python\\Alumno colaborador\\Lib\\site-packages\\numpy\\linalg\\_linalg.py:2622\u001b[39m, in \u001b[36mnorm\u001b[39m\u001b[34m(x, ord, axis, keepdims)\u001b[39m\n\u001b[32m   2618\u001b[39m \u001b[38;5;28;01mdef\u001b[39;00m\u001b[38;5;250m \u001b[39m\u001b[34m_norm_dispatcher\u001b[39m(x, \u001b[38;5;28mord\u001b[39m=\u001b[38;5;28;01mNone\u001b[39;00m, axis=\u001b[38;5;28;01mNone\u001b[39;00m, keepdims=\u001b[38;5;28;01mNone\u001b[39;00m):\n\u001b[32m   2619\u001b[39m     \u001b[38;5;28;01mreturn\u001b[39;00m (x,)\n\u001b[32m-> \u001b[39m\u001b[32m2622\u001b[39m \u001b[38;5;129m@array_function_dispatch\u001b[39m(_norm_dispatcher)\n\u001b[32m   2623\u001b[39m \u001b[38;5;28;01mdef\u001b[39;00m\u001b[38;5;250m \u001b[39m\u001b[34mnorm\u001b[39m(x, \u001b[38;5;28mord\u001b[39m=\u001b[38;5;28;01mNone\u001b[39;00m, axis=\u001b[38;5;28;01mNone\u001b[39;00m, keepdims=\u001b[38;5;28;01mFalse\u001b[39;00m):\n\u001b[32m   2624\u001b[39m \u001b[38;5;250m    \u001b[39m\u001b[33;03m\"\"\"\u001b[39;00m\n\u001b[32m   2625\u001b[39m \u001b[33;03m    Matrix or vector norm.\u001b[39;00m\n\u001b[32m   2626\u001b[39m \n\u001b[32m   (...)\u001b[39m\u001b[32m   2770\u001b[39m \n\u001b[32m   2771\u001b[39m \u001b[33;03m    \"\"\"\u001b[39;00m\n\u001b[32m   2772\u001b[39m     x = asarray(x)\n",
      "\u001b[31mKeyboardInterrupt\u001b[39m: "
     ]
    }
   ],
   "source": [
    "x0 = [0.0, 1.0, 0.0] #Condicion inicial\n",
    "\n",
    "t_final = np.linspace(200, 4000, 100) #Tiempos de simulación\n",
    "lambda_max = []\n",
    "\n",
    "for T in t_final:\n",
    "    λ = lyapunov_lorenz(x0, delta0=1e-8, h=0.5, t_final=T, renorm_interval=0.05)\n",
    "    lambda_max.append(λ)"
   ]
  },
  {
   "cell_type": "code",
   "execution_count": 23,
   "metadata": {},
   "outputs": [
    {
     "ename": "IndexError",
     "evalue": "list index out of range",
     "output_type": "error",
     "traceback": [
      "\u001b[31m---------------------------------------------------------------------------\u001b[39m",
      "\u001b[31mIndexError\u001b[39m                                Traceback (most recent call last)",
      "\u001b[36mCell\u001b[39m\u001b[36m \u001b[39m\u001b[32mIn[23]\u001b[39m\u001b[32m, line 1\u001b[39m\n\u001b[32m----> \u001b[39m\u001b[32m1\u001b[39m \u001b[38;5;28mprint\u001b[39m(\u001b[33m\"\u001b[39m\u001b[33mExponente de Lyapunov λ:\u001b[39m\u001b[33m\"\u001b[39m, \u001b[43mlambda_max\u001b[49m\u001b[43m[\u001b[49m\u001b[38;5;28;43mlen\u001b[39;49m\u001b[43m(\u001b[49m\u001b[43mlambda_max\u001b[49m\u001b[43m)\u001b[49m\u001b[43m]\u001b[49m)\n\u001b[32m      2\u001b[39m plt.figure(figsize=(\u001b[32m10\u001b[39m, \u001b[32m6\u001b[39m))\n\u001b[32m      3\u001b[39m plt.plot(t_final, lambda_max, marker=\u001b[33m'\u001b[39m\u001b[33m*\u001b[39m\u001b[33m'\u001b[39m, label=\u001b[33m'\u001b[39m\u001b[33mλ vs T\u001b[39m\u001b[33m'\u001b[39m)\n",
      "\u001b[31mIndexError\u001b[39m: list index out of range"
     ]
    }
   ],
   "source": [
    "print(\"Exponente de Lyapunov λ:\", lambda_max[len(lambda_max)])\n",
    "plt.figure(figsize=(10, 6))\n",
    "plt.plot(t_final, lambda_max, marker='*', label='λ vs T')\n",
    "plt.xlabel('Tiempo de integración T')\n",
    "plt.ylabel('Exponente de Lyapunov λ')\n",
    "plt.grid(True)\n",
    "plt.legend()\n",
    "plt.show()"
   ]
  }
 ],
 "metadata": {
  "kernelspec": {
   "display_name": "Alumno colaborador",
   "language": "python",
   "name": "python3"
  },
  "language_info": {
   "codemirror_mode": {
    "name": "ipython",
    "version": 3
   },
   "file_extension": ".py",
   "mimetype": "text/x-python",
   "name": "python",
   "nbconvert_exporter": "python",
   "pygments_lexer": "ipython3",
   "version": "3.12.10"
  }
 },
 "nbformat": 4,
 "nbformat_minor": 2
}
